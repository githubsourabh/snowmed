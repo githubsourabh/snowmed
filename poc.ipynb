{
 "cells": [
  {
   "cell_type": "code",
   "execution_count": null,
   "metadata": {},
   "outputs": [],
   "source": [
    "import google.generativeai as genai\n",
    "import numpy as np\n",
    "from sklearn.metrics.pairwise import cosine_similarity\n",
    "\n",
    "\n",
    "google_api_key=\"\"\n",
    "MODEL = \"models/embedding-001\"\n",
    "\n",
    "def gen_standard_embeddings (standard_diagnosis_list):\n",
    "    # Configure Gemini API\n",
    "    genai.configure(api_key=google_api_key)  \n",
    "\n",
    "    # Get embeddings using embed_content\n",
    "    standard_embeddings = [\n",
    "        genai.embed_content(model= MODEL, content=text, task_type=\"retrieval_document\")[\"embedding\"]\n",
    "        for text in standard_diagnosis_list\n",
    "    ]\n",
    "    return standard_embeddings\n",
    "\n",
    "\n",
    "\n",
    "def gen_matched_strings (standard_embeddings,standard_diagnosis_list, to_be_matched_strings):\n",
    "    genai.configure(api_key=google_api_key)\n",
    "    # Compare a test diagnosis\n",
    "    input_strings_embeddings=[]\n",
    "    matched_strings=[]\n",
    "    similarities =[]\n",
    "    for to_be_matched_string in to_be_matched_strings:\n",
    "        input_strings_embeddings.append (genai.embed_content(model=MODEL, content=to_be_matched_string, task_type=\"retrieval_query\")[\"embedding\"])\n",
    "\n",
    "    # Compute cosine similarities\n",
    "    for input_str_emb in input_strings_embeddings:\n",
    "        similarity_score = cosine_similarity([input_str_emb], standard_embeddings)[0]\n",
    "        #print (similarity_score)\n",
    "        best_index = np.argmax(similarity_score)\n",
    "        similarities.append (similarity_score[best_index])\n",
    "        #print (best_index)\n",
    "        matched_strings.append (standard_diagnosis_list[best_index])\n",
    "\n",
    "    return similarities, matched_strings\n",
    "    "
   ]
  },
  {
   "cell_type": "code",
   "execution_count": 36,
   "metadata": {},
   "outputs": [
    {
     "name": "stdout",
     "output_type": "stream",
     "text": [
      "Test Input: Depression\n",
      "Best Match: Major depressive disorder\n",
      "Test Input: T2 diab\n",
      "Best Match: Type 2 diabetes mellitus\n",
      "Test Input: resp inf\n",
      "Best Match: Acute upper respiratory infection\n"
     ]
    }
   ],
   "source": [
    "standard_diagnosis = [\n",
    "        \"Hypertension, primary\",\n",
    "        \"Type 2 diabetes mellitus\",\n",
    "        \"Acute upper respiratory infection\",\n",
    "        \"Major depressive disorder\",\n",
    "    ]\n",
    "\n",
    "to_be_matched_strings=[\n",
    "    \"Depression\",\n",
    "    \"T2 diab\",\n",
    "    \"resp inf\"\n",
    "]\n",
    "\n",
    "standard_embeddings = gen_standard_embeddings(standard_diagnosis)\n",
    "similarities, matched_strings = gen_matched_strings (standard_embeddings,standard_diagnosis, to_be_matched_strings)\n",
    "\n",
    "for input, matched in zip (to_be_matched_strings,matched_strings):\n",
    "    print(f\"Test Input: {input}\")\n",
    "    print(f\"Best Match: {matched}\")\n",
    "    #print(f\"Similarity Score: {similarities[best_match_index]:.4f}\")"
   ]
  }
 ],
 "metadata": {
  "kernelspec": {
   "display_name": ".venv",
   "language": "python",
   "name": "python3"
  },
  "language_info": {
   "codemirror_mode": {
    "name": "ipython",
    "version": 3
   },
   "file_extension": ".py",
   "mimetype": "text/x-python",
   "name": "python",
   "nbconvert_exporter": "python",
   "pygments_lexer": "ipython3",
   "version": "3.9.6"
  }
 },
 "nbformat": 4,
 "nbformat_minor": 2
}
