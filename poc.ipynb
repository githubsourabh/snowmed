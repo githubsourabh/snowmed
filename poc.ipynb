{
 "cells": [
  {
   "cell_type": "code",
   "execution_count": 1,
   "metadata": {},
   "outputs": [
    {
     "data": {
      "text/plain": [
       "True"
      ]
     },
     "execution_count": 1,
     "metadata": {},
     "output_type": "execute_result"
    }
   ],
   "source": [
    "# This section is to read .env file in the current directory. You need to set GOOGLE_API_KEY in the file. Alternatively just set hardcode google_api_key to the API Key value. Do not checkin the key to git\n",
    "from dotenv import load_dotenv\n",
    "import os\n",
    "load_dotenv()  # Automatically looks for a `.env` file in current dir\n",
    "#print(os.environ['GOOGLE_API_KEY'])"
   ]
  },
  {
   "cell_type": "code",
   "execution_count": 8,
   "metadata": {},
   "outputs": [],
   "source": [
    "import faiss\n",
    "import google.generativeai as genai\n",
    "import numpy as np\n",
    "from pyspark.sql import SparkSession\n",
    "import os\n",
    "\n",
    "google_api_key = os.environ.get('GOOGLE_API_KEY')\n",
    "MODEL = \"models/embedding-001\"\n",
    "BATCH_SIZE_FOR_GOOGLE_API = 1000\n",
    "dimension = 768\n",
    "\n",
    "spark = SparkSession.builder \\\n",
    "    .appName(\"ParallelEmbeddingGeneration\") \\\n",
    "    .master(\"local[*]\") \\\n",
    "    .getOrCreate()\n",
    "\n",
    "def configure_genai():\n",
    "    genai.configure(api_key=google_api_key)\n",
    "\n",
    "def generate_embeddings_in_batches(batch):\n",
    "    configure_genai()\n",
    "    response = genai.embed_content(\n",
    "        model=MODEL,\n",
    "        content=batch,\n",
    "        task_type=\"retrieval_document\"\n",
    "    )\n",
    "\n",
    "    #print (response)\n",
    "\n",
    "    embeddings = response[\"embedding\"]\n",
    "    return embeddings  # List[List[float]]\n",
    "\n",
    "def gen_standard_embeddings(standard_diagnosis_list):\n",
    "    # Create RDD and process partitions in Spark\n",
    "    rdd = spark.sparkContext.parallelize(standard_diagnosis_list, numSlices=6)\n",
    "\n",
    "    def process_partition(partition):\n",
    "        configure_genai()\n",
    "        partition = list(partition)\n",
    "        all_embeddings = []\n",
    "        for i in range(0, len(partition), BATCH_SIZE_FOR_GOOGLE_API):\n",
    "            batch = partition[i:i + BATCH_SIZE_FOR_GOOGLE_API]\n",
    "            batch_embeddings = generate_embeddings_in_batches(batch)\n",
    "            all_embeddings.extend(batch_embeddings)\n",
    "        return all_embeddings\n",
    "\n",
    "    # ✅ Step 1: Collect all embeddings back to driver\n",
    "    all_embeddings = rdd.mapPartitions(process_partition).collect()\n",
    "\n",
    "    # ✅ Step 2: Convert to NumPy array and build FAISS index on driver\n",
    "    embeddings_np = np.array(all_embeddings, dtype='float32')\n",
    "    faiss.normalize_L2(embeddings_np)\n",
    "\n",
    "    index = faiss.IndexFlatIP(dimension)\n",
    "    index.add(embeddings_np)\n",
    "\n",
    "    # ✅ Step 3: Save index\n",
    "    faiss.write_index(index, \"faiss_standard_strings_embeddings.index\")\n",
    "    print(\"Saved FAISS index with\", index.ntotal, \"vectors.\")\n",
    "\n",
    "\n",
    "# standard_diagnosis = [\n",
    "#         \"Hypertension, primary\",\n",
    "#         \"Type 2 diabetes mellitus\",\n",
    "#         \"Acute upper respiratory infection\",\n",
    "#         \"Major depressive disorder\",\n",
    "#     ]\n",
    "\n",
    "# #df = pd.read_csv(\"symptom_descriptions_top100.csv\")\n",
    "# #first_column = df.iloc[:, 0].astype(str).tolist()\n",
    "# gen_standard_embeddings(standard_diagnosis)"
   ]
  },
  {
   "cell_type": "code",
   "execution_count": 9,
   "metadata": {},
   "outputs": [
    {
     "name": "stderr",
     "output_type": "stream",
     "text": [
      "/Users/sourabh/software_development/env_jupyter_spark_vsc/.venv/lib/python3.9/site-packages/urllib3/__init__.py:35: NotOpenSSLWarning: urllib3 v2 only supports OpenSSL 1.1.1+, currently the 'ssl' module is compiled with 'LibreSSL 2.8.3'. See: https://github.com/urllib3/urllib3/issues/3020\n",
      "  warnings.warn(\n",
      "/Users/sourabh/software_development/env_jupyter_spark_vsc/.venv/lib/python3.9/site-packages/urllib3/__init__.py:35: NotOpenSSLWarning: urllib3 v2 only supports OpenSSL 1.1.1+, currently the 'ssl' module is compiled with 'LibreSSL 2.8.3'. See: https://github.com/urllib3/urllib3/issues/3020\n",
      "  warnings.warn(\n",
      "/Users/sourabh/software_development/env_jupyter_spark_vsc/.venv/lib/python3.9/site-packages/urllib3/__init__.py:35: NotOpenSSLWarning: urllib3 v2 only supports OpenSSL 1.1.1+, currently the 'ssl' module is compiled with 'LibreSSL 2.8.3'. See: https://github.com/urllib3/urllib3/issues/3020\n",
      "  warnings.warn(\n",
      "/Users/sourabh/software_development/env_jupyter_spark_vsc/.venv/lib/python3.9/site-packages/urllib3/__init__.py:35: NotOpenSSLWarning: urllib3 v2 only supports OpenSSL 1.1.1+, currently the 'ssl' module is compiled with 'LibreSSL 2.8.3'. See: https://github.com/urllib3/urllib3/issues/3020\n",
      "  warnings.warn(\n",
      "/Users/sourabh/software_development/env_jupyter_spark_vsc/.venv/lib/python3.9/site-packages/urllib3/__init__.py:35: NotOpenSSLWarning: urllib3 v2 only supports OpenSSL 1.1.1+, currently the 'ssl' module is compiled with 'LibreSSL 2.8.3'. See: https://github.com/urllib3/urllib3/issues/3020\n",
      "  warnings.warn(\n",
      "/Users/sourabh/software_development/env_jupyter_spark_vsc/.venv/lib/python3.9/site-packages/urllib3/__init__.py:35: NotOpenSSLWarning: urllib3 v2 only supports OpenSSL 1.1.1+, currently the 'ssl' module is compiled with 'LibreSSL 2.8.3'. See: https://github.com/urllib3/urllib3/issues/3020\n",
      "  warnings.warn(\n",
      "                                                                                \r"
     ]
    },
    {
     "name": "stdout",
     "output_type": "stream",
     "text": [
      "Saved FAISS index with 9999 vectors.\n"
     ]
    }
   ],
   "source": [
    "import pandas as pd\n",
    "# Read the CSV file and extract the first column\n",
    "df = pd.read_csv(\"symptom_descriptions_top10K.csv\")\n",
    "# Extract the first column as an array of strings\n",
    "first_column = df.iloc[:, 0].astype(str).tolist()\n",
    "\n",
    "\n",
    "# Generate embeddings\n",
    "gen_standard_embeddings(first_column)\n",
    "#print(\"Generated embeddings shape:\", standard_embeddings.shape)"
   ]
  }
 ],
 "metadata": {
  "kernelspec": {
   "display_name": ".venv",
   "language": "python",
   "name": "python3"
  },
  "language_info": {
   "codemirror_mode": {
    "name": "ipython",
    "version": 3
   },
   "file_extension": ".py",
   "mimetype": "text/x-python",
   "name": "python",
   "nbconvert_exporter": "python",
   "pygments_lexer": "ipython3",
   "version": "3.9.6"
  }
 },
 "nbformat": 4,
 "nbformat_minor": 2
}
